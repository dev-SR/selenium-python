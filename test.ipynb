{
 "cells": [
  {
   "cell_type": "code",
   "execution_count": 11,
   "metadata": {},
   "outputs": [],
   "source": [
    "import glob\n",
    "import pandas as pd\n",
    "from pathlib import Path"
   ]
  },
  {
   "cell_type": "code",
   "execution_count": 6,
   "metadata": {},
   "outputs": [
    {
     "data": {
      "text/html": [
       "<div>\n",
       "<style scoped>\n",
       "    .dataframe tbody tr th:only-of-type {\n",
       "        vertical-align: middle;\n",
       "    }\n",
       "\n",
       "    .dataframe tbody tr th {\n",
       "        vertical-align: top;\n",
       "    }\n",
       "\n",
       "    .dataframe thead th {\n",
       "        text-align: right;\n",
       "    }\n",
       "</style>\n",
       "<table border=\"1\" class=\"dataframe\">\n",
       "  <thead>\n",
       "    <tr style=\"text-align: right;\">\n",
       "      <th></th>\n",
       "      <th>href</th>\n",
       "      <th>header</th>\n",
       "    </tr>\n",
       "  </thead>\n",
       "  <tbody>\n",
       "    <tr>\n",
       "      <th>0</th>\n",
       "      <td>https://successwithielts.com/s08e27</td>\n",
       "      <td>Libraries</td>\n",
       "    </tr>\n",
       "    <tr>\n",
       "      <th>1</th>\n",
       "      <td>https://successwithielts.com/s08e26</td>\n",
       "      <td>Happiness</td>\n",
       "    </tr>\n",
       "    <tr>\n",
       "      <th>2</th>\n",
       "      <td>https://successwithielts.com/s08e25</td>\n",
       "      <td>Noise</td>\n",
       "    </tr>\n",
       "    <tr>\n",
       "      <th>3</th>\n",
       "      <td>https://successwithielts.com/s08e24</td>\n",
       "      <td>Small businesses</td>\n",
       "    </tr>\n",
       "    <tr>\n",
       "      <th>4</th>\n",
       "      <td>https://successwithielts.com/s08e23</td>\n",
       "      <td>Keys</td>\n",
       "    </tr>\n",
       "  </tbody>\n",
       "</table>\n",
       "</div>"
      ],
      "text/plain": [
       "                                  href            header\n",
       "0  https://successwithielts.com/s08e27         Libraries\n",
       "1  https://successwithielts.com/s08e26         Happiness\n",
       "2  https://successwithielts.com/s08e25             Noise\n",
       "3  https://successwithielts.com/s08e24  Small businesses\n",
       "4  https://successwithielts.com/s08e23              Keys"
      ]
     },
     "execution_count": 6,
     "metadata": {},
     "output_type": "execute_result"
    }
   ],
   "source": [
    "links = pd.read_csv(\"links_data.csv\")\n",
    "links.head()"
   ]
  },
  {
   "cell_type": "code",
   "execution_count": 8,
   "metadata": {},
   "outputs": [
    {
     "data": {
      "text/plain": [
       "['Libraries', 'Happiness']"
      ]
     },
     "execution_count": 8,
     "metadata": {},
     "output_type": "execute_result"
    }
   ],
   "source": [
    "Topics = links['header'].tolist()\n",
    "Topics[:2]"
   ]
  },
  {
   "cell_type": "code",
   "execution_count": null,
   "metadata": {},
   "outputs": [],
   "source": []
  },
  {
   "cell_type": "code",
   "execution_count": null,
   "metadata": {},
   "outputs": [],
   "source": [
    "data = glob.glob(\"data/*.csv\")\n",
    "from docx import Document\n",
    "from docx.oxml import OxmlElement\n",
    "from docx.oxml.ns import qn\n",
    "from docx.text.paragraph import Paragraph\n",
    "from docx.shared import Pt, RGBColor\n",
    "from docx.enum.text import WD_ALIGN_PARAGRAPH\n",
    "\n",
    "document = Document()\n",
    "document.styles['Normal'].font.name = 'Inter'\n",
    "topic_font_size = 10\n",
    "word_font_size = 9\n",
    "definition_font_size = 7\n",
    "example_font_size = 8\n",
    "component_font_size = 6\n",
    "importance_font_size=6\n",
    "\n",
    "\n",
    "for topic in Topics:\n",
    "    topic_paths = []\n",
    "    for file in data:\n",
    "        path = Path(file)\n",
    "        path_topic = path.stem.split(\"_\")[0]\n",
    "        path_type = path.stem.split(\"_\")[1]\n",
    "        if topic == path_topic:\n",
    "            topic_paths.append({\n",
    "                \"topic\":topic,\n",
    "                \"path\":path,\n",
    "                \"path_type\":path_type\n",
    "            })\n",
    "    topic_line = document.add_paragraph()\n",
    "    topic_line.paragraph_format.space_after = Pt(0)\n",
    "    topic_line.alignment = WD_ALIGN_PARAGRAPH.CENTER\n",
    "    topic_line = topic_line.add_run(topic)\t\n",
    "    topic_line.bold = True\n",
    "    topic_line.font.size = Pt(topic_font_size)\n",
    "    for tp in topic_paths:\n",
    "        df = pd.read_csv(tp[\"path\"])\n",
    "        if tp['path_type'] == 'vocab':\n",
    "            vocabs = df['vocabs'].tolist()\n",
    "            for vocab in vocabs:\n",
    "                try:\n",
    "                    vocab = vocab.replace(\"â€”\",\"-\")\n",
    "                    root = vocab.split(\"-\")[0]\n",
    "                    def_ = vocab.split(\"-\")[1]\n",
    "                    root_line = document.add_paragraph()\n",
    "                    root_line.paragraph_format.space_after = Pt(0)\n",
    "                    root_line.alignment = WD_ALIGN_PARAGRAPH.LEFT\n",
    "                    root_run = root_line.add_run(root)\n",
    "                    root_run.bold = True\n",
    "                    root_run.font.size = Pt(word_font_size)\n",
    "                    root_run = root_line.add_run(\" - \" + def_)\n",
    "                    root_run.bold = False\n",
    "                    root_run.font.size = Pt(word_font_size)\n",
    "                except Exception as e:\n",
    "                    pass\n",
    "                    # print(tp)\n",
    "                \n",
    "        if tp['path_type'] == 'def':\n",
    "            QAs = df['Def'].tolist()[0][3:]\n",
    "            try:\n",
    "                for qa in QAs.split(\"M: \"):\n",
    "                    q,a = qa.split(\"?\")\n",
    "                    q = q + \"?\"\n",
    "                    a = a[3:]\n",
    "                    q_line = document.add_paragraph()\n",
    "                    q_line.paragraph_format.space_after = Pt(0)\n",
    "                    q_line.alignment = WD_ALIGN_PARAGRAPH.LEFT\n",
    "                    q_line = q_line.add_run(q)\n",
    "                    q_line.bold = True\n",
    "                    q_line.font.size = Pt(word_font_size)\n",
    "                    a_line = document.add_paragraph()\n",
    "                    a_line.paragraph_format.space_after = Pt(0)\n",
    "                    a_line.alignment = WD_ALIGN_PARAGRAPH.LEFT\n",
    "                    a_line = a_line.add_run(a)\n",
    "                    a_line.bold = False\n",
    "                    a_line.font.size = Pt(word_font_size)                \n",
    "            except Exception as e:\n",
    "                pass\n",
    "                # print(tp)\n",
    "\n",
    "            \n",
    "document.save('summary.docx')     "
   ]
  }
 ],
 "metadata": {
  "kernelspec": {
   "display_name": "base",
   "language": "python",
   "name": "python3"
  },
  "language_info": {
   "codemirror_mode": {
    "name": "ipython",
    "version": 3
   },
   "file_extension": ".py",
   "mimetype": "text/x-python",
   "name": "python",
   "nbconvert_exporter": "python",
   "pygments_lexer": "ipython3",
   "version": "3.9.12"
  },
  "orig_nbformat": 4
 },
 "nbformat": 4,
 "nbformat_minor": 2
}
